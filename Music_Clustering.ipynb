{
  "cells": [
    {
      "cell_type": "markdown",
      "metadata": {
        "id": "view-in-github",
        "colab_type": "text"
      },
      "source": [
        "<a href=\"https://colab.research.google.com/github/shahargonda/ClassicML/blob/main/Music_Clustering.ipynb\" target=\"_parent\"><img src=\"https://colab.research.google.com/assets/colab-badge.svg\" alt=\"Open In Colab\"/></a>"
      ]
    },
    {
      "cell_type": "markdown",
      "metadata": {
        "id": "jsABZip9qRUC"
      },
      "source": [
        "#Music Clustering"
      ]
    },
    {
      "cell_type": "markdown",
      "metadata": {
        "id": "PS6ZYvZSHbTO"
      },
      "source": [
        "## premise"
      ]
    },
    {
      "cell_type": "markdown",
      "metadata": {
        "id": "vde1kOq1qUa0"
      },
      "source": [
        "1. יש לקחת סיגנל אודיו המורכב מכמה כלים, ולנתח אותו באמצעים של למידה בלתי מונחית.\n",
        "2. יש לאשכל את המקטעים השונים לפי המקצבים, תפקידים וכו'.\n",
        "3. רמז: ניתן להשתמש בספריית ליברוסה על מנת לבצע טרנספורמציות מתאימות.\n",
        "4. הכינו מצגת קצרה לסיכום העבודה (לא יותר מ15 דקות).\n",
        "\n",
        "בהצלחה!\n"
      ]
    },
    {
      "cell_type": "markdown",
      "metadata": {
        "id": "IsssML10HfVc"
      },
      "source": [
        "## wondering and brainstorming"
      ]
    },
    {
      "cell_type": "markdown",
      "metadata": {
        "id": "Lk1Fu1JvqYOd"
      },
      "source": [
        "שאלות:\n",
        "מסתמכים בשלב הלמידה על יותר מקטע מוזיקלי יחיד? \n",
        "מה יש בדאטה?\n",
        "מה אורך קטע צפוי?\n",
        "רק אינסטרומטלי?\n",
        "\n",
        "לאיזו מטרה מאשכלים?\n",
        "מה פיצ'רים רלוונטיים?\n",
        "\n",
        "?אותו תו/אותו כלי/אותו מקצב\n",
        "וריאציה של מנגינה באוקטבות שונות?\n",
        "בית/פזמון, סולמות, כלי מוביל\n"
      ]
    },
    {
      "cell_type": "markdown",
      "metadata": {
        "id": "F73Lir1qrmEP"
      },
      "source": [
        "מחקר ראשוני: ליברוסה\n",
        "האם יש פיצ'רים ברמות מידע שונות? "
      ]
    },
    {
      "cell_type": "code",
      "execution_count": 4,
      "metadata": {
        "id": "OhtciJB5qQcf"
      },
      "outputs": [],
      "source": [
        "# initial plan \n",
        "\n",
        "# load audio signal\n",
        "# transform to audiogram\n",
        "# visualize raw signal and audiogram\n",
        "# maybe extract features from librosa at this stage (high\\low level)\n",
        "# visualize features on the data audiogram or while played or both\n",
        "# decide how to cut\n",
        "# maybe extract features from librosa at this stage (high\\low level)\n",
        "# cut and cluster\n",
        "# visualize clusters on the data audiogram or while played or both"
      ]
    },
    {
      "cell_type": "markdown",
      "metadata": {
        "id": "GG2VM4RoKBp6"
      },
      "source": [
        "## Imports, Load"
      ]
    },
    {
      "cell_type": "code",
      "execution_count": 5,
      "metadata": {
        "id": "rP65OH9fsJob"
      },
      "outputs": [],
      "source": [
        "import numpy as np\n",
        "import pandas as pd\n",
        "import scipy\n",
        "from scipy import stats as st\n",
        "import sklearn\n",
        "from sklearn.decomposition import PCA\n",
        "from sklearn.manifold import TSNE\n",
        "from sklearn.mixture import GaussianMixture\n",
        "from sklearn.cluster import SpectralClustering\n",
        "\n",
        "import matplotlib.pyplot as plt\n",
        "import matplotlib.transforms as mpt\n",
        "import matplotlib.patches as patches\n",
        "\n",
        "import librosa\n",
        "import librosa.display\n",
        "\n",
        "from IPython.display import Audio\n",
        "SHOW_STREAMER=False\n"
      ]
    },
    {
      "cell_type": "code",
      "execution_count": null,
      "metadata": {
        "id": "VkTGOsIAh8CP"
      },
      "outputs": [],
      "source": [
        "# הקובץ צ\"ל בתיקיה הראשית של המחברת\n",
        "#audio_path='AiodeDemoSong.wav'\n",
        "#y, sr = librosa.load(audio_path)"
      ]
    },
    {
      "cell_type": "code",
      "source": [
        "# read from s3 bucket\n",
        "import soundfile as sf\n",
        "import io\n",
        "from six.moves.urllib.request import urlopen\n",
        "\n",
        "url = 'https://aiodefilesbucket.s3.amazonaws.com/AiodeDemoSong.wav'\n",
        "\n",
        "y, sr = sf.read(io.BytesIO(urlopen(url).read()))\n",
        "y= y[1:,0]"
      ],
      "metadata": {
        "id": "90BXvYwBLQ19"
      },
      "execution_count": 6,
      "outputs": []
    },
    {
      "cell_type": "code",
      "execution_count": 7,
      "metadata": {
        "id": "LYUZuHt2-cJb"
      },
      "outputs": [],
      "source": [
        "\n",
        "hop_length = 512\n",
        "BINS_PER_OCTAVE= 12*3\n",
        "K=15\n",
        "boundary_bin=[]"
      ]
    },
    {
      "cell_type": "markdown",
      "metadata": {
        "id": "w6E8G1MWVXsG"
      },
      "source": [
        "## Feature Extraction"
      ]
    },
    {
      "cell_type": "code",
      "execution_count": 8,
      "metadata": {
        "id": "MtbQ094j-b_a",
        "colab": {
          "base_uri": "https://localhost:8080/",
          "height": 792
        },
        "outputId": "9871bb55-6b9d-44a5-ce1f-934481e24692"
      },
      "outputs": [
        {
          "output_type": "stream",
          "name": "stderr",
          "text": [
            "/usr/local/lib/python3.7/dist-packages/librosa/util/utils.py:200: UserWarning: librosa.util.frame called with axis=-1 on a non-contiguous input. This will result in a copy.\n",
            "  \"on a non-contiguous input. This will result in a copy.\".format(axis)\n"
          ]
        },
        {
          "output_type": "display_data",
          "data": {
            "text/plain": [
              "<Figure size 1440x360 with 3 Axes>"
            ],
            "image/png": "[encoded data removed]"
          },
          "metadata": {
            "needs_background": "light"
          }
        },
        {
          "output_type": "display_data",
          "data": {
            "text/plain": [
              "<Figure size 1080x432 with 2 Axes>"
            ],
            "image/png": "[encoded data removed]"
          },
          "metadata": {
            "needs_background": "light"
          }
        }
      ],
      "source": [
        "# MFCC, chromagram \n",
        "# source: https://librosa.org/doc/0.9.2/tutorial.html\n",
        "# also the article: https://www.researchgate.net/publication/328777063_librosa_Audio_and_Music_Signal_Analysis_in_Python\n",
        "\n",
        "# Separate harmonics and percussives into two waveforms\n",
        "y_harmonic, y_percussive = librosa.effects.hpss(y)\n",
        "\n",
        "fig, ax = plt.subplots(nrows=3, figsize=(15, 5))\n",
        "librosa.display.waveplot(y, sr=sr, x_axis='time', offset=0.0, ax=ax[0])\n",
        "ax[0].label_outer()\n",
        "ax[0].set(title='original waveform')\n",
        "#times = librosa.times_like(y, sr=sr, hop_length=hop_length)\n",
        "#ax[0].plot(times, y_harmonic)\n",
        "librosa.display.waveplot(y_harmonic, sr=sr, x_axis='time', offset=0.0, ax=ax[1])\n",
        "ax[1].label_outer()\n",
        "ax[1].set(title='harmonic part')\n",
        "#ax[1].legend(frameon=True)\n",
        "librosa.display.waveplot(y_percussive, sr=sr, x_axis='time', offset=0.0, ax=ax[2])\n",
        "ax[2].set(title='percussive part')\n",
        "plt.show()\n",
        "\n",
        "# Beat track on the percussive signal\n",
        "tempo, beat_frames = librosa.beat.beat_track(y=y_percussive, sr=sr)\n",
        "beat_times = librosa.frames_to_time(beat_frames, sr=sr)\n",
        "\n",
        "# Compute MFCC features from the raw signal\n",
        "mfcc = librosa.feature.mfcc(y=y, sr=sr, hop_length=hop_length, n_mfcc=13)\n",
        "beat_aligned_mfcc= librosa.util.sync(mfcc, beat_frames)\n",
        "\n",
        "# And the first-order differences (delta features)\n",
        "mfcc_delta = librosa.feature.delta(mfcc)\n",
        "beat_aligned_mfcc_delta= librosa.util.sync(mfcc_delta, beat_frames)\n",
        "\n",
        "# Stack and synchronize between beat events\n",
        "# This time, we'll use the mean value (default) instead of median\n",
        "timed_mfcc_mfcc_delta= np.vstack([mfcc, mfcc_delta])\n",
        "beat_aligned_mfcc_mfcc_delta = librosa.util.sync(timed_mfcc_mfcc_delta, beat_frames)\n",
        "                              \n",
        "# Compute chroma features from the harmonic signal\n",
        "chromagram = librosa.feature.chroma_cqt(y=y_harmonic,\n",
        "                                        sr=sr)\n",
        "fig, ax = plt.subplots(figsize=(15,6))\n",
        "img = librosa.display.specshow(chromagram, y_axis='chroma', x_axis='time', ax=ax)\n",
        "ax.set(title='Chromagram')\n",
        "fig.colorbar(img, ax=ax)\n",
        "\n",
        "# Aggregate chroma features between beat events\n",
        "# We'll use the median value of each feature between beat frames\n",
        "beat_aligned_chroma = librosa.util.sync(chromagram,\n",
        "                                beat_frames,\n",
        "                                aggregate=np.median)\n",
        "\n",
        "# Finally, stack all regular timed features and beat-synchronous features together\n",
        "timed_features= np.vstack([mfcc, mfcc_delta, chromagram])\n",
        "beat_aligned_features = np.vstack([beat_aligned_chroma, beat_aligned_mfcc_mfcc_delta])"
      ]
    },
    {
      "cell_type": "code",
      "execution_count": null,
      "metadata": {
        "id": "ho5Xm0oPMAj6"
      },
      "outputs": [],
      "source": [
        "beat_times2= np.hstack([np.zeros(1),beat_times])\n",
        "          \n",
        "fig, ax = plt.subplots(nrows=3, figsize=(15, 10))\n",
        "img = librosa.display.specshow(beat_aligned_mfcc, x_coords=beat_times2 ,x_axis='time', ax=ax[0], cmap='magma')\n",
        "ax[0].set(title='Beat-alligned MFCC')\n",
        "img = librosa.display.specshow(beat_aligned_mfcc_delta, x_coords=beat_times2 ,x_axis='time', ax=ax[1], cmap='magma')\n",
        "ax[1].label_outer()\n",
        "ax[1].set(title='Beat-alligned MFCC-delta')\n",
        "img = librosa.display.specshow(beat_aligned_chroma, y_axis='chroma', x_coords=beat_times2, x_axis='time', ax=ax[2])\n",
        "ax[2].set(title='Beat-alligned chromagram')\n",
        "plt.tight_layout()\n",
        "plt.show()"
      ]
    },
    {
      "cell_type": "code",
      "execution_count": null,
      "metadata": {
        "id": "q4wn4y04QvD6"
      },
      "outputs": [],
      "source": [
        "# we'll crunch that later "
      ]
    },
    {
      "cell_type": "code",
      "execution_count": null,
      "metadata": {
        "id": "kDgpIPXgSaPs"
      },
      "outputs": [],
      "source": [
        "# Tempo: \n",
        "# source: https://librosa.org/doc/main/generated/librosa.feature.tempogram.html#librosa.feature.tempogram\n",
        "\n",
        "onset_frames = librosa.onset.onset_detect(y, sr=sr, delta=0.04, wait=4)\n",
        "onset_times = librosa.frames_to_time(onset_frames, sr=sr)\n",
        "onset_samples = librosa.frames_to_samples(onset_frames)\n",
        "\n",
        "# Compute local onset autocorrelation\n",
        "oenv = librosa.onset.onset_strength(y=y, sr=sr, hop_length=hop_length)\n",
        "tempogram = librosa.feature.tempogram(onset_envelope=oenv, sr=sr,\n",
        "                                      hop_length=hop_length)\n",
        "# Compute global onset autocorrelation\n",
        "ac_global = librosa.autocorrelate(oenv, max_size=tempogram.shape[0])\n",
        "ac_global = librosa.util.normalize(ac_global)\n",
        "# Estimate the global tempo for display purposes\n",
        "tempo = librosa.beat.tempo(onset_envelope=oenv, sr=sr,\n",
        "                           hop_length=hop_length)[0]\n",
        "\n",
        "fig, ax = plt.subplots(nrows=2, figsize=(10, 10))\n",
        "times = librosa.times_like(oenv, sr=sr, hop_length=hop_length)\n",
        "ax[0].plot(times, oenv, label='Onset strength')\n",
        "ax[0].label_outer()\n",
        "ax[0].legend(frameon=True)\n",
        "librosa.display.specshow(tempogram, sr=sr, hop_length=hop_length,\n",
        "                         x_axis='time', y_axis='tempo', cmap='magma',\n",
        "                         ax=ax[1])\n",
        "ax[1].axhline(tempo, color='w', linestyle='--', alpha=1,\n",
        "            label='Estimated tempo={:g}'.format(tempo))\n",
        "ax[1].legend(loc='upper right')\n",
        "ax[1].set(title='Tempogram')\n",
        "plt.show()"
      ]
    },
    {
      "cell_type": "markdown",
      "metadata": {
        "id": "5VBBtENWqJVg"
      },
      "source": [
        "## Functions' Definitions"
      ]
    },
    {
      "cell_type": "code",
      "execution_count": null,
      "metadata": {
        "id": "J4kKvRp8xC8b"
      },
      "outputs": [],
      "source": [
        "def scale(features):\n",
        "  min_max_scaler = sklearn.preprocessing.MinMaxScaler(feature_range=(-1, 1))\n",
        "  features_scaled = min_max_scaler.fit_transform(features)\n",
        "  return features_scaled\n",
        "def reduce_dimention_via_PCA(features, n_dims):\n",
        "  return PCA(n_components=n_dims).fit_transform(features)\n",
        "def reduce_dimentions_via_TSNE(features, n_dims, perplexity=15):\n",
        "  return TSNE(n_components=n_dims, learning_rate='auto',init='random', perplexity=perplexity).fit_transform(features)"
      ]
    },
    {
      "cell_type": "code",
      "execution_count": null,
      "metadata": {
        "id": "boXuV2bfJMao"
      },
      "outputs": [],
      "source": [
        "def librosa_cluster_by_features(features, k):\n",
        "  # librosa.segment: https://github.com/librosa/librosa/blob/main/librosa/segment.py\n",
        "  boundaries = librosa.segment.agglomerative(features, k)\n",
        "  # this is contrained already so the labels are just consecutive\n",
        "  n= features.shape[1]\n",
        "  labels= np.zeros(n)\n",
        "  for label, (low, high) in enumerate(zip (boundaries, np.append(boundaries[1:],n))):\n",
        "    #print(low, high)\n",
        "    labels[low:high]= label\n",
        "  \n",
        "  return boundaries, labels\n",
        "\n",
        "def plot_boundaries_on_whatevergram(labels, boundaries, whatevergram, info_str, **kwargs):\n",
        "  # move boundries to time\n",
        "  bound_times = librosa.frames_to_time(boundaries, sr=sr)\n",
        "  fig, ax = plt.subplots(figsize=(25, 8))\n",
        "  trans = mpt.blended_transform_factory(\n",
        "              ax.transData, ax.transAxes)\n",
        "  librosa.display.specshow(whatevergram, x_axis='time', ax=ax, **kwargs)\n",
        "  ax.vlines(bound_times, 0, 1, color='linen', linestyle='--',\n",
        "            linewidth=2, alpha=0.9, label='Segment boundaries',\n",
        "            transform=trans)\n",
        "  ax.legend()\n",
        "  ax.set(title=info_str)\n",
        "  plt.show()\n",
        "\n",
        "def change_axis_features(features):\n",
        "  # the time axis is last in librosa - let's swap it back to place 0 \n",
        "  features = np.atleast_2d(features)\n",
        "  # Swap data index to position 0\n",
        "  features = np.swapaxes(features, -1, 0)\n",
        "  return features\n",
        "\n",
        "def play_clicks_at_boundaries(y, boundaries):\n",
        "  clicks = librosa.clicks(frames=boundaries, sr=sr, length=len(y))\n",
        "  Audio(data=(y + clicks)[:60*7*sr], rate=sr)\n"
      ]
    },
    {
      "cell_type": "code",
      "execution_count": null,
      "metadata": {
        "id": "DNR38Z5ydQ8g"
      },
      "outputs": [],
      "source": [
        "# K-means Knee method for deciding on k \n",
        "# https://practicaldatascience.co.uk/machine-learning/how-to-use-knee-point-detection-in-k-means-clustering\n",
        "!pip3 install kneed\n",
        "from kneed import KneeLocator\n",
        "\n",
        "def find_k(df, increment=0, decrement=0):\n",
        "    \"\"\"Find the optimum k clusters\"\"\"\n",
        "    sse = {}\n",
        "    \n",
        "    for k in range(1, 15+1):\n",
        "        kmeans = sklearn.cluster.KMeans(n_clusters=k, random_state=1)\n",
        "        kmeans.fit(df)\n",
        "        sse[k] = kmeans.inertia_\n",
        "    \n",
        "    kn = KneeLocator(x=list(sse.keys()), \n",
        "                 y=list(sse.values()), \n",
        "                 curve='convex', \n",
        "                 direction='decreasing')\n",
        "    k = kn.knee + increment - decrement\n",
        "    return k\n"
      ]
    },
    {
      "cell_type": "code",
      "execution_count": null,
      "metadata": {
        "id": "2FIruCUqWN6l"
      },
      "outputs": [],
      "source": [
        "def plot_2d_projections(features_PCA, features_tSNE, labels=None, title=''):\n",
        "  fig, ax =plt.subplots(nrows=1, ncols=2, figsize=(15,8))\n",
        "  ax[0].scatter(features_PCA[:,0], features_PCA[:,1], c=labels)\n",
        "  ax[0].set_xlabel('first component')\n",
        "  ax[0].set_ylabel('second component')\n",
        "\n",
        "  ax[1].scatter(features_tSNE[:,0], features_tSNE[:,1], c=labels)\n",
        "  ax[1].set_xlabel('first tSNE magic axis')\n",
        "  ax[1].set_ylabel('second tSNE magic axis')\n",
        "  #plt.tight_layout()\n",
        "  fig.tight_layout(rect=[0, 0.03, 1, 0.95])\n",
        "  plt.suptitle(title)\n",
        "  plt.show()\n",
        "\n",
        "def plot_labels_on_time_axis(onset_times, labels, title=\"\"):\n",
        "  plt.figure(figsize=(15,5))\n",
        "  plt.plot(onset_times, labels.astype('float'))\n",
        "  plt.title(title)\n",
        "  plt.xlabel('seconds')\n",
        "  plt.show()  "
      ]
    },
    {
      "cell_type": "code",
      "execution_count": null,
      "metadata": {
        "id": "0hfbOq_MumzS"
      },
      "outputs": [],
      "source": [
        "def cluster_from_features(features, onset_times, knee_plot=False, spectral_clustering=True, plot_projections=True):\n",
        "  print ('features.shape', features.shape)\n",
        "  features_scaled= scale(features)\n",
        "  print ('features_scaled.shape',features_scaled.shape)\n",
        "\n",
        "  if plot_projections:\n",
        "    n_dims=2\n",
        "    features_PCA= reduce_dimention_via_PCA(features_scaled, n_dims)\n",
        "    features_tSNE= reduce_dimentions_via_TSNE(features_scaled, n_dims, perplexity=20)\n",
        "\n",
        "    plot_2d_projections(features_PCA, features_tSNE, title='2-D Projections of the feature space')\n",
        "\n",
        "  if knee_plot:\n",
        "    Km_scores=[]\n",
        "    for i in range(1,15+1):\n",
        "      model = sklearn.cluster.KMeans(n_clusters=i)\n",
        "      model.fit(features_scaled)\n",
        "      Km_score= np.sum(np.min(model.transform(features_scaled), axis=1))\n",
        "      Km_scores.append(Km_score)\n",
        "    plt.plot(np.arange(1,15+1), Km_scores)\n",
        "    plt.xticks(np.arange(1,15+1))\n",
        "    plt.title('Cumulative distance from means for different Ks')\n",
        "    plt.xlabel('K')\n",
        "    plt.ylabel('Cumulative distance')\n",
        "    plt.show()\n",
        "    # I liked K=6, but knee-finder suggests k=4, so be it\n",
        "\n",
        "  k= find_k(features_scaled)\n",
        "  print('best evaluated k',k)\n",
        "\n",
        "  model = sklearn.cluster.KMeans(n_clusters=k)\n",
        "  Km_labels = model.fit_predict(features_scaled)\n",
        "  print ('Km_labels.shape',Km_labels.shape)\n",
        "  if plot_projections:\n",
        "    plot_2d_projections(features_PCA,features_tSNE, Km_labels, 'K-means')\n",
        "  plot_labels_on_time_axis(onset_times, Km_labels, 'K-means labels')\n",
        "\n",
        "  \n",
        "  gm_labels = GaussianMixture(n_components=k, random_state=0).fit_predict(features_scaled) #features2\n",
        "  if plot_projections:\n",
        "    plot_2d_projections(features_PCA,features_tSNE, gm_labels, 'GMM')\n",
        "  plot_labels_on_time_axis(onset_times, gm_labels, 'GMM labels')\n",
        "\n",
        "  sc_labels=[]\n",
        "  if spectral_clustering:\n",
        "    spectral_clustering_model= SpectralClustering(n_clusters=k, assign_labels='discretize')\n",
        "    sc_labels=spectral_clustering_model.fit_predict(features_scaled)\n",
        "    if plot_projections:\n",
        "      plot_2d_projections(features_PCA,features_tSNE, sc_labels, 'Spectral Clustering')\n",
        "    plot_labels_on_time_axis(onset_times, sc_labels, 'Spectral Clustering labels')\n",
        "\n",
        "  return Km_labels, gm_labels, sc_labels"
      ]
    },
    {
      "cell_type": "markdown",
      "metadata": {
        "id": "wRfFCwlUqVvK"
      },
      "source": [
        "# Clustering"
      ]
    },
    {
      "cell_type": "markdown",
      "metadata": {
        "id": "2eBFQkhExYZv"
      },
      "source": [
        "## Instrument clustering: using MFCC features"
      ]
    },
    {
      "cell_type": "code",
      "execution_count": null,
      "metadata": {
        "id": "gF6Q2jgFgUPD"
      },
      "outputs": [],
      "source": [
        "# 1. MFCC information clustering- concerning the spectral envelope. hope it gives instrument analysis!\n",
        "k=K # number of segments \n",
        "MFCC_boundaries, MFCC_labels= librosa_cluster_by_features(mfcc, k)\n",
        "if boundary_bin==[]:\n",
        "  boundary_bin=MFCC_boundaries\n",
        "else:\n",
        "  boundary_bin= np.vstack([boundary_bin,MFCC_boundaries ])\n",
        "#print (MFCC_boundaries)\n",
        "plot_boundaries_on_whatevergram(MFCC_labels, MFCC_boundaries, mfcc, \"MFCC coefs. clustering based on MFCC information only\", cmap='magma')\n",
        "if SHOW_STREAMER:\n",
        "  clicks = librosa.clicks(frames=MFCC_boundaries, sr=sr, length=len(y))\n",
        "  Audio(data=(y + clicks)[:60*7*sr], rate=sr)"
      ]
    },
    {
      "cell_type": "code",
      "execution_count": null,
      "metadata": {
        "id": "ttD54iAazrI6"
      },
      "outputs": [],
      "source": [
        "  #script echo skipping\n",
        "  # audio playing keeps crashing my notebook\n",
        "  clicks = librosa.clicks(frames=MFCC_boundaries, sr=sr, length=len(y))\n",
        "  Audio(data=(y + clicks)[:60*7*sr], rate=sr)"
      ]
    },
    {
      "cell_type": "code",
      "execution_count": null,
      "metadata": {
        "id": "r8h6HhhcStdx"
      },
      "outputs": [],
      "source": [
        "# convincing! but can we do it with regular machine learning techniques? "
      ]
    },
    {
      "cell_type": "code",
      "execution_count": null,
      "metadata": {
        "id": "cUeDHpUTS6_X"
      },
      "outputs": [],
      "source": [
        "print(beat_aligned_mfcc.shape)\n",
        "ba_mfcc=change_axis_features(beat_aligned_mfcc)\n",
        "features= scale(ba_mfcc)\n",
        "\n",
        "#onset_times=beat_times2\n",
        "print(ba_mfcc.shape)\n",
        "print(beat_times2.shape)"
      ]
    },
    {
      "cell_type": "code",
      "execution_count": null,
      "metadata": {
        "id": "vX8a9cxnvUm8"
      },
      "outputs": [],
      "source": [
        "ba_mfcc_axis=change_axis_features(beat_aligned_mfcc)\n",
        "MFCC_Km_labels, MFCC_gm_labels, MFCC_sc_labels= cluster_from_features(ba_mfcc_axis, beat_times2)"
      ]
    },
    {
      "cell_type": "code",
      "execution_count": null,
      "metadata": {
        "id": "mjRX112lhOK-"
      },
      "outputs": [],
      "source": [
        "def accumulate_by_label(labels_vector, label, y, beat_times, verbose=False):\n",
        "  timeline=np.squeeze(np.where(labels_vector==label))\n",
        "  if verbose:\n",
        "    print(timeline)\n",
        "    #print(timeline[0:-2])\n",
        "  #beat_times2[timeline]\n",
        "  low= np.squeeze([beat_times[time] for time in timeline[:-1]])\n",
        "  high= np.squeeze([beat_times[time+1] for time in timeline[:-1]])\n",
        "  couples=list(zip(low,high))\n",
        "\n",
        "  acc_frames=np.zeros(1)\n",
        "  for low, high in couples:\n",
        "    #print(low,high)\n",
        "    acc_frames= np.hstack([acc_frames,y[int(low*sr):int(high*sr)]])\n",
        "  return acc_frames\n",
        "\n",
        "acc_frames= accumulate_by_label(MFCC_gm_labels, 0, y, beat_times2)\n",
        "Audio(acc_frames, rate=sr)"
      ]
    },
    {
      "cell_type": "code",
      "execution_count": null,
      "metadata": {
        "id": "FcSgZ9LfVRoC"
      },
      "outputs": [],
      "source": [
        "acc_frames= accumulate_by_label(MFCC_gm_labels, 3, y, beat_times2)\n",
        "Audio(acc_frames, rate=sr)"
      ]
    },
    {
      "cell_type": "markdown",
      "metadata": {
        "id": "P0rqPL0asmRC"
      },
      "source": [
        "### Tangent: label by beat"
      ]
    },
    {
      "cell_type": "code",
      "execution_count": null,
      "metadata": {
        "id": "VjrwN0E6WiZe"
      },
      "outputs": [],
      "source": [
        "# assign label with each instrument onset\n",
        "#idea source: https://musicinformationretrieval.com/index.html\n",
        "\n",
        "onset_frames = librosa.onset.onset_detect(y, sr=sr, delta=0.04, wait=4)\n",
        "onset_times = librosa.frames_to_time(onset_frames, sr=sr)\n",
        "onset_samples = librosa.frames_to_samples(onset_frames)\n",
        "\n",
        "# all recognized onsets\n",
        "y_beeps = librosa.clicks(onset_times, sr, length=len(y))\n",
        "Audio((y + y_beeps)[:60*sr], rate=sr)\n",
        "\n",
        "def extract_features(y, sr):\n",
        "    zcr = librosa.zero_crossings(y).sum()\n",
        "    energy = scipy.linalg.norm(y)\n",
        "    mfccs = librosa.feature.mfcc(y, sr=sr).mean(axis=1)\n",
        "    return [zcr, energy, *mfccs]\n",
        "\n",
        "frame_sz = int(sr*0.090)\n",
        "features = np.array([extract_features(y[i:i+frame_sz], sr) for i in onset_samples])"
      ]
    },
    {
      "cell_type": "code",
      "execution_count": null,
      "metadata": {
        "id": "7LUpCjbV4bAg"
      },
      "outputs": [],
      "source": [
        "features_scaled= scale(features)\n",
        "\n",
        "n_dims=2\n",
        "features_PCA= reduce_dimention_via_PCA(features_scaled, n_dims)\n",
        "features_tSNE= reduce_dimentions_via_TSNE(features_scaled, n_dims, perplexity=20)\n",
        "\n",
        "plot_2d_projections(features_PCA, features_tSNE, title='2-D Projections of the feature space')\n",
        "\n",
        "Km_scores=[]\n",
        "for i in range(1,19+1):\n",
        "  model = sklearn.cluster.KMeans(n_clusters=i)\n",
        "  model.fit(features_scaled)\n",
        "  Km_score= np.sum(np.min(model.transform(features_scaled), axis=1))\n",
        "  Km_scores.append(Km_score)\n",
        "plt.plot(np.arange(1,19+1), Km_scores)\n",
        "plt.xticks(np.arange(1,19+1))\n",
        "plt.title('Cumulative distance from means for different Ks')\n",
        "plt.xlabel('K')\n",
        "plt.ylabel('Cumulative distance')\n",
        "plt.show()\n",
        "# I liked K=6, but knee-finder suggests k=4, so be it\n",
        "\n",
        "k= find_k(features_scaled)\n",
        "print('best evaluated k',k)\n",
        "\n",
        "model = sklearn.cluster.KMeans(n_clusters=k)\n",
        "Km_labels = model.fit_predict(features_scaled)\n",
        "plot_2d_projections(features_PCA,features_tSNE, Km_labels, 'K-means')\n",
        "plot_labels_on_time_axis(onset_times, Km_labels, 'K-means labels')\n",
        "\n",
        "from sklearn.mixture import GaussianMixture\n",
        "gm_labels = GaussianMixture(n_components=k, random_state=0).fit_predict(features_scaled) #features2\n",
        "plot_2d_projections(features_PCA,features_tSNE, gm_labels, 'GMM')\n",
        "plot_labels_on_time_axis(onset_times, gm_labels, 'GMM labels')\n",
        "\n",
        "from sklearn.cluster import SpectralClustering\n",
        "spectral_clustering_model= SpectralClustering(n_clusters=k, assign_labels='discretize')\n",
        "sc_labels=spectral_clustering_model.fit_predict(features_scaled)\n",
        "plot_2d_projections(features_PCA,features_tSNE, sc_labels, 'Spectral Clustering')\n",
        "plot_labels_on_time_axis(onset_times, sc_labels, 'Spectral Clustering labels')\n"
      ]
    },
    {
      "cell_type": "code",
      "execution_count": null,
      "metadata": {
        "id": "ZKbnhznSKU5q"
      },
      "outputs": [],
      "source": [
        "# hear all labels at once\n",
        "def create_beep_pattern(labels):\n",
        "  y_beeps= librosa.clicks(times=[0] ,sr=sr, click_freq=1, length=len(y))\n",
        "  for i,label in enumerate(np.unique(labels)):\n",
        "    y_beeps += librosa.clicks(onset_times[labels==label], sr, click_freq=800.0+200*i, length=len(y))\n",
        "  return y_beeps\n"
      ]
    },
    {
      "cell_type": "code",
      "execution_count": null,
      "metadata": {
        "id": "JS6wxjy-XYbu"
      },
      "outputs": [],
      "source": [
        "%%script echo skipping\n",
        "# audio playing keeps crashing my notebook\n",
        "\n",
        "# example: seems that all clustering algorithms agree on this interval: \n",
        "y_beeps=create_beep_pattern(sc_labels)  \n",
        "Audio((y + y_beeps)[450*sr:600*sr], rate=sr)"
      ]
    },
    {
      "cell_type": "code",
      "execution_count": null,
      "metadata": {
        "id": "RioyZk1l8zjJ"
      },
      "outputs": [],
      "source": [
        "%%script echo skipping\n",
        "# audio playing keeps crashing my notebook\n",
        "\n",
        "# and this one, with only the keyboard playing\n",
        "init_seconds=0\n",
        "end_seconds= 30\n",
        "Audio((y)[init_seconds*sr:end_seconds*sr], rate=sr)"
      ]
    },
    {
      "cell_type": "markdown",
      "metadata": {
        "id": "KFRoCMpA21VF"
      },
      "source": [
        "## Cluster using Chroma features- melody information?"
      ]
    },
    {
      "cell_type": "code",
      "execution_count": null,
      "metadata": {
        "id": "1vJQGug8ZZJS"
      },
      "outputs": [],
      "source": [
        "# 1. Chroma features and clustering \n",
        "k=K\n",
        "Chroma_boundaries, Chroma_labels= librosa_cluster_by_features(chromagram, k)\n",
        "if boundary_bin==[]:\n",
        "  boundary_bin=Chroma_boundaries\n",
        "else:\n",
        "  boundary_bin= np.vstack([boundary_bin,Chroma_boundaries ])\n",
        "#print(librosa.frames_to_time(Chroma_boundaries, sr=sr))\n",
        "print (Chroma_boundaries)\n",
        "plot_boundaries_on_whatevergram(Chroma_labels, Chroma_boundaries, chromagram, \"Power spectrogram. Chromagram information only\", y_axis='chroma')\n",
        "if SHOW_STREAMER:\n",
        "  clicks = librosa.clicks(frames=Chroma_boundaries, sr=sr, length=len(y))\n",
        "  Audio(data=(y + clicks)[:60*7*sr], rate=sr)"
      ]
    },
    {
      "cell_type": "code",
      "execution_count": null,
      "metadata": {
        "id": "-G5LKTq3IqhP"
      },
      "outputs": [],
      "source": [
        "#%%script echo skipping\n",
        "# audio playing keeps crashing my notebook\n",
        "\n",
        "clicks = librosa.clicks(frames=Chroma_boundaries, sr=sr, length=len(y))\n",
        "Audio(data=(y + clicks)[60*2*sr:60*7*sr], rate=sr)"
      ]
    },
    {
      "cell_type": "code",
      "execution_count": null,
      "metadata": {
        "id": "5NG_cC1LHZqB"
      },
      "outputs": [],
      "source": [
        "ba_chroma_axis=change_axis_features(beat_aligned_chroma)\n",
        "Chroma_Km_labels, Chroma_gm_labels, Chroma_sc_labels= cluster_from_features(ba_chroma_axis, beat_times2)"
      ]
    },
    {
      "cell_type": "code",
      "execution_count": null,
      "metadata": {
        "id": "GXqkCSlYIZks"
      },
      "outputs": [],
      "source": [
        "#%%script echo skipping\n",
        "# audio playing keeps crashing my notebook\n",
        "\n",
        "acc_frames= accumulate_by_label(Chroma_gm_labels, 0, y, beat_times2)\n",
        "Audio(acc_frames, rate=sr)"
      ]
    },
    {
      "cell_type": "code",
      "execution_count": null,
      "metadata": {
        "id": "Z00e27HBwRVL"
      },
      "outputs": [],
      "source": [
        "# unfortunately the time constrains are important here- \n",
        "#the clustering that doesn't constrain it does a lot worse. "
      ]
    },
    {
      "cell_type": "markdown",
      "metadata": {
        "id": "WX2r1McO1sXp"
      },
      "source": [
        "## Tempo clustering: using tempogram features"
      ]
    },
    {
      "cell_type": "code",
      "execution_count": null,
      "metadata": {
        "id": "JS4hDMJjwkr8"
      },
      "outputs": [],
      "source": [
        "# 3. Tempogram - hope it gives tempo clustering\n",
        "k=K\n",
        "tempo_boundaries, tempo_labels= librosa_cluster_by_features(tempogram, k)\n",
        "if boundary_bin==[]:\n",
        "  boundary_bin=tempo_boundaries\n",
        "else:\n",
        "  boundary_bin= np.vstack([boundary_bin,tempo_boundaries ])\n",
        "print (tempo_boundaries)\n",
        "plot_boundaries_on_whatevergram(tempo_labels, tempo_boundaries, chromagram, \"Clustering using Tempogram information only\",\n",
        "                  y_axis='chroma', sr=sr)\n",
        "if SHOW_STREAMER:\n",
        "  clicks = librosa.clicks(frames=tempo_boundaries, sr=sr, length=len(y))\n",
        "  Audio(data=(y + clicks)[:60*7*sr], rate=sr)"
      ]
    },
    {
      "cell_type": "code",
      "execution_count": null,
      "metadata": {
        "id": "fa6YYYKD724f"
      },
      "outputs": [],
      "source": [
        "%%script echo skipping\n",
        "# audio playing keeps crashing my notebook\n",
        "clicks = librosa.clicks(frames=tempo_boundaries, sr=sr, length=len(y))\n",
        "Audio(data=(y + clicks)[int(60*4.5*sr):int(60*9*sr)], rate=sr)"
      ]
    },
    {
      "cell_type": "code",
      "execution_count": null,
      "metadata": {
        "id": "lfNLJ4jVQAa7"
      },
      "outputs": [],
      "source": [
        "tempo_axis=change_axis_features(tempogram)\n",
        "print(tempo_axis.shape)\n",
        "\n",
        "# there are 384 features. Let's reduce them\n",
        "tempo_axis_reduced=reduce_dimention_via_PCA(tempo_axis, n_dims=20)\n",
        "print(tempo_axis_reduced.shape)\n",
        "# also too many lines, but i don't want to subsample"
      ]
    },
    {
      "cell_type": "code",
      "execution_count": null,
      "metadata": {
        "id": "Q0YQ1B_QxX63"
      },
      "outputs": [],
      "source": [
        "tempo_Km_labels, tempo_gm_labels, tempo_sc_labels= cluster_from_features(tempo_axis_reduced, onset_times=times, knee_plot=False, spectral_clustering=False, plot_projections=False) "
      ]
    },
    {
      "cell_type": "code",
      "execution_count": null,
      "metadata": {
        "id": "0vHknzZB8KbR"
      },
      "outputs": [],
      "source": [
        "acc_frames= accumulate_by_label(tempo_Km_labels, 3, y, times, verbose=True)\n",
        "print(acc_frames)\n",
        "Audio(acc_frames, rate=sr)"
      ]
    },
    {
      "cell_type": "code",
      "execution_count": null,
      "metadata": {
        "id": "SMxa9K3QjGU7"
      },
      "outputs": [],
      "source": [
        "# it works!"
      ]
    },
    {
      "cell_type": "markdown",
      "metadata": {
        "id": "src97iX-3Jig"
      },
      "source": [
        "## Catchall clustering"
      ]
    },
    {
      "cell_type": "code",
      "execution_count": null,
      "metadata": {
        "id": "6nG18bs0n-v1"
      },
      "outputs": [],
      "source": [
        "# 4. cluster by all timed features at once: \n",
        "k=K\n",
        "catchall_boundaries, catchall_labels= librosa_cluster_by_features(timed_features, k)\n",
        "if boundary_bin==[]:\n",
        "  boundary_bin=catchall_boundaries\n",
        "else:\n",
        "  boundary_bin= np.vstack([boundary_bin,catchall_boundaries ])\n",
        "print (catchall_boundaries)\n",
        "plot_boundaries_on_whatevergram(catchall_labels, catchall_boundaries, chromagram, \"Clustering using all features\",\n",
        "                  y_axis='chroma', sr=sr)\n",
        "# answers are very close to those of the MFCC. maybe time to normalize? :)"
      ]
    },
    {
      "cell_type": "code",
      "execution_count": null,
      "metadata": {
        "id": "-O6gOahiohQ4"
      },
      "outputs": [],
      "source": [
        "print(boundary_bin)"
      ]
    },
    {
      "cell_type": "code",
      "execution_count": null,
      "metadata": {
        "id": "pSly9pmZig5K"
      },
      "outputs": [],
      "source": [
        "# this is very similar to the boundaries aquired from SFCC alone. "
      ]
    },
    {
      "cell_type": "markdown",
      "metadata": {
        "id": "cLUBkJ51zIcL"
      },
      "source": [
        "## Bonus- Laplacian segmentation\n"
      ]
    },
    {
      "cell_type": "code",
      "execution_count": null,
      "metadata": {
        "id": "UHJwYKpJfmlg"
      },
      "outputs": [],
      "source": [
        "'''\n",
        "======================\n",
        "Laplacian segmentation\n",
        "======================\n",
        "\n",
        "This notebook implements the laplacian segmentation method of\n",
        "`McFee and Ellis, 2014 <http://bmcfee.github.io/papers/ismir2014_spectral.pdf>`_,\n",
        "with a couple of minor stability improvements.\n",
        "\n",
        "Throughout the example, we will refer to equations in the paper by number, so it will be\n",
        "helpful to read along.\n",
        "'''\n",
        "\n",
        "# Code source: Brian McFee\n",
        "# License: ISC\n",
        "\n",
        "\n",
        "###################################\n",
        "# Imports\n",
        "#   - numpy for basic functionality\n",
        "#   - scipy for graph Laplacian\n",
        "#   - matplotlib for visualization\n",
        "#   - sklearn.cluster for K-Means\n",
        "#\n",
        "from __future__ import print_function\n",
        "\n",
        "import numpy as np\n",
        "import scipy\n",
        "import matplotlib.pyplot as plt\n",
        "\n",
        "import sklearn.cluster\n",
        "\n",
        "import librosa\n",
        "import librosa.display\n",
        "\n",
        "#############################\n",
        "# First, we'll load in a song\n",
        "\n",
        "# I commented this part\n",
        "#y, sr = librosa.load('audio/Karissa_Hobbs_-_09_-_Lets_Go_Fishin.mp3')\n",
        "\n",
        "\n",
        "##############################################\n",
        "# Next, we'll compute and plot a log-power CQT\n",
        "BINS_PER_OCTAVE = 12 * 3\n",
        "N_OCTAVES = 7\n",
        "C = librosa.amplitude_to_db(librosa.cqt(y=y, sr=sr,\n",
        "                                        bins_per_octave=BINS_PER_OCTAVE,\n",
        "                                        n_bins=N_OCTAVES * BINS_PER_OCTAVE),\n",
        "                            ref=np.max)\n",
        "\n",
        "plt.figure(figsize=(12, 4))\n",
        "librosa.display.specshow(C, y_axis='cqt_hz', sr=sr,\n",
        "                         bins_per_octave=BINS_PER_OCTAVE,\n",
        "                         x_axis='time')\n",
        "plt.tight_layout()\n",
        "\n",
        "\n",
        "##########################################################\n",
        "# To reduce dimensionality, we'll beat-synchronous the CQT\n",
        "tempo, beats = librosa.beat.beat_track(y=y, sr=sr, trim=False)\n",
        "Csync = librosa.util.sync(C, beats, aggregate=np.median)\n",
        "\n",
        "# For plotting purposes, we'll need the timing of the beats\n",
        "# we fix_frames to include non-beat frames 0 and C.shape[1] (final frame)\n",
        "beat_times = librosa.frames_to_time(librosa.util.fix_frames(beats,\n",
        "                                                            x_min=0,\n",
        "                                                            x_max=C.shape[1]),\n",
        "                                    sr=sr)\n",
        "\n",
        "plt.figure(figsize=(12, 4))\n",
        "librosa.display.specshow(Csync, bins_per_octave=12*3,\n",
        "                         y_axis='cqt_hz', x_axis='time',\n",
        "                         x_coords=beat_times)\n",
        "plt.tight_layout()\n",
        "\n",
        "\n",
        "#####################################################################\n",
        "# Let's build a weighted recurrence matrix using beat-synchronous CQT\n",
        "# (Equation 1)\n",
        "# width=3 prevents links within the same bar\n",
        "# mode='affinity' here implements S_rep (after Eq. 8)\n",
        "R = librosa.segment.recurrence_matrix(Csync, width=3, mode='affinity',\n",
        "                                      sym=True)\n",
        "\n",
        "# Enhance diagonals with a median filter (Equation 2)\n",
        "df = librosa.segment.timelag_filter(scipy.ndimage.median_filter)\n",
        "Rf = df(R, size=(1, 7))\n",
        "\n",
        "\n",
        "###################################################################\n",
        "# Now let's build the sequence matrix (S_loc) using mfcc-similarity\n",
        "#\n",
        "#   :math:`R_\\text{path}[i, i\\pm 1] = \\exp(-\\|C_i - C_{i\\pm 1}\\|^2 / \\sigma^2)`\n",
        "#\n",
        "# Here, we take :math:`\\sigma` to be the median distance between successive beats.\n",
        "#\n",
        "mfcc = librosa.feature.mfcc(y=y, sr=sr)\n",
        "Msync = librosa.util.sync(mfcc, beats)\n",
        "\n",
        "path_distance = np.sum(np.diff(Msync, axis=1)**2, axis=0)\n",
        "sigma = np.median(path_distance)\n",
        "path_sim = np.exp(-path_distance / sigma)\n",
        "\n",
        "R_path = np.diag(path_sim, k=1) + np.diag(path_sim, k=-1)\n",
        "\n",
        "\n",
        "##########################################################\n",
        "# And compute the balanced combination (Equations 6, 7, 9)\n",
        "\n",
        "deg_path = np.sum(R_path, axis=1)\n",
        "deg_rec = np.sum(Rf, axis=1)\n",
        "\n",
        "mu = deg_path.dot(deg_path + deg_rec) / np.sum((deg_path + deg_rec)**2)\n",
        "\n",
        "A = mu * Rf + (1 - mu) * R_path\n",
        "\n",
        "\n",
        "###########################################################\n",
        "# Plot the resulting graphs (Figure 1, left and center)\n",
        "plt.figure(figsize=(8, 4))\n",
        "plt.subplot(1, 3, 1)\n",
        "librosa.display.specshow(Rf, cmap='inferno_r', y_axis='time',\n",
        "                         y_coords=beat_times)\n",
        "plt.title('Recurrence similarity')\n",
        "plt.subplot(1, 3, 2)\n",
        "librosa.display.specshow(R_path, cmap='inferno_r')\n",
        "plt.title('Path similarity')\n",
        "plt.subplot(1, 3, 3)\n",
        "librosa.display.specshow(A, cmap='inferno_r')\n",
        "plt.title('Combined graph')\n",
        "plt.tight_layout()\n",
        "\n",
        "\n",
        "#####################################################\n",
        "# Now let's compute the normalized Laplacian (Eq. 10)\n",
        "L = scipy.sparse.csgraph.laplacian(A, normed=True)\n",
        "\n",
        "\n",
        "# and its spectral decomposition\n",
        "evals, evecs = scipy.linalg.eigh(L)\n",
        "\n",
        "\n",
        "# We can clean this up further with a median filter.\n",
        "# This can help smooth over small discontinuities\n",
        "evecs = scipy.ndimage.median_filter(evecs, size=(9, 1))\n",
        "\n",
        "\n",
        "# cumulative normalization is needed for symmetric normalize laplacian eigenvectors\n",
        "Cnorm = np.cumsum(evecs**2, axis=1)**0.5\n",
        "\n",
        "# If we want k clusters, use the first k normalized eigenvectors.\n",
        "# Fun exercise: see how the segmentation changes as you vary k\n",
        "\n",
        "k = 7\n",
        "\n",
        "X = evecs[:, :k] / Cnorm[:, k-1:k]\n",
        "\n",
        "# Plot the resulting representation (Figure 1, center and right)\n",
        "\n",
        "plt.figure(figsize=(8, 4))\n",
        "plt.subplot(1, 2, 2)\n",
        "librosa.display.specshow(Rf, cmap='inferno_r')\n",
        "plt.title('Recurrence matrix')\n",
        "\n",
        "plt.subplot(1, 2, 1)\n",
        "librosa.display.specshow(X,\n",
        "                         y_axis='time',\n",
        "                         y_coords=beat_times)\n",
        "plt.title('Structure components')\n",
        "plt.tight_layout()\n",
        "\n",
        "\n",
        "#############################################################\n",
        "# Let's use these k components to cluster beats into segments\n",
        "# (Algorithm 1)\n",
        "KM = sklearn.cluster.KMeans(n_clusters=k)\n",
        "\n",
        "seg_ids = KM.fit_predict(X)\n",
        "\n",
        "# and plot the results\n",
        "plt.figure(figsize=(12, 4))\n",
        "colors = plt.get_cmap('Paired', k)\n",
        "\n",
        "plt.subplot(1, 3, 2)\n",
        "librosa.display.specshow(Rf, cmap='inferno_r')\n",
        "plt.title('Recurrence matrix')\n",
        "plt.subplot(1, 3, 1)\n",
        "librosa.display.specshow(X,\n",
        "                         y_axis='time',\n",
        "                         y_coords=beat_times)\n",
        "plt.title('Structure components')\n",
        "plt.subplot(1, 3, 3)\n",
        "librosa.display.specshow(np.atleast_2d(seg_ids).T, cmap=colors)\n",
        "plt.title('Estimated segments')\n",
        "plt.colorbar(ticks=range(k))\n",
        "plt.tight_layout()\n",
        "\n",
        "\n",
        "###############################################################\n",
        "# Locate segment boundaries from the label sequence\n",
        "bound_beats = 1 + np.flatnonzero(seg_ids[:-1] != seg_ids[1:])\n",
        "\n",
        "# Count beat 0 as a boundary\n",
        "bound_beats = librosa.util.fix_frames(bound_beats, x_min=0)\n",
        "\n",
        "# Compute the segment label for each boundary\n",
        "bound_segs = list(seg_ids[bound_beats])\n",
        "\n",
        "# Convert beat indices to frames\n",
        "bound_frames = beats[bound_beats]\n",
        "\n",
        "# Make sure we cover to the end of the track\n",
        "bound_frames = librosa.util.fix_frames(bound_frames,\n",
        "                                       x_min=None,\n",
        "                                       x_max=C.shape[1]-1)\n",
        "\n",
        "###################################################\n",
        "# And plot the final segmentation over original CQT\n",
        "\n",
        "\n",
        "# sphinx_gallery_thumbnail_number = 5\n",
        "\n",
        "import matplotlib.patches as patches\n",
        "plt.figure(figsize=(12, 4))\n",
        "\n",
        "bound_times = librosa.frames_to_time(bound_frames)\n",
        "freqs = librosa.cqt_frequencies(n_bins=C.shape[0],\n",
        "                                fmin=librosa.note_to_hz('C1'),\n",
        "                                bins_per_octave=BINS_PER_OCTAVE)\n",
        "\n",
        "#librosa.display.specshow(C, y_axis='cqt_hz', sr=sr,\n",
        "#                         bins_per_octave=BINS_PER_OCTAVE,\n",
        "#                         x_axis='time')\n",
        "librosa.display.specshow(chromagram, y_axis='cqt_hz', sr=sr,\n",
        "                         bins_per_octave=BINS_PER_OCTAVE,\n",
        "                         x_axis='time')\n",
        "ax = plt.gca()\n",
        "\n",
        "for interval, label in zip(zip(bound_times, bound_times[1:]), bound_segs):\n",
        "    ax.add_patch(patches.Rectangle((interval[0], freqs[0]),\n",
        "                                   interval[1] - interval[0],\n",
        "                                   freqs[-1],\n",
        "                                   facecolor=colors(label),\n",
        "                                   alpha=0.50))\n",
        "\n",
        "plt.tight_layout()\n",
        "plt.show()\n",
        "\n",
        "#clicks = librosa.clicks(frames=bound_frames, sr=sr, length=len(y))\n",
        "#Audio(data=(y + clicks)[:int(60*9*sr)], rate=sr)"
      ]
    },
    {
      "cell_type": "code",
      "execution_count": null,
      "metadata": {
        "id": "0Dt0nQlPQLOB"
      },
      "outputs": [],
      "source": [
        "clicks = librosa.clicks(frames=bound_frames, sr=sr, length=len(y))\n",
        "Audio(data=(y + clicks)[int(60*3*sr):int(60*9*sr)], rate=sr)"
      ]
    },
    {
      "cell_type": "markdown",
      "metadata": {
        "id": "iDy4vMlI3poc"
      },
      "source": [
        "## Unsucceessful attempt: Refrains"
      ]
    },
    {
      "cell_type": "code",
      "execution_count": null,
      "metadata": {
        "id": "rtQAHtfxlLwu"
      },
      "outputs": [],
      "source": [
        "# refrains: repeating sequences are supposed to appear as diagonals on a time-time recurrence matrix\n",
        "# in our case it doesn't really show, nor doest it show on a time-lag matrix as horizontals\n",
        "\n",
        "recurrence = librosa.segment.recurrence_matrix(beat_aligned_features,\n",
        "                                       mode='affinity',\n",
        "                                       sym=True)\n",
        "plt.figure(figsize=(10, 8))\n",
        "librosa.display.specshow(recurrence)\n",
        "plt.colorbar()\n",
        "\n",
        "# lag representation\n",
        "lag_nopad = librosa.segment.recurrence_to_lag(recurrence, pad=False)\n",
        "plt.figure(figsize=(10, 8))\n",
        "librosa.display.specshow(lag_nopad)\n",
        "plt.colorbar()"
      ]
    },
    {
      "cell_type": "markdown",
      "metadata": {
        "id": "79mLo2z93yF9"
      },
      "source": [
        "I'm also not the only one who didn't make out the referain:"
      ]
    },
    {
      "cell_type": "code",
      "execution_count": null,
      "metadata": {
        "id": "dCSVHvmQe2N3"
      },
      "outputs": [],
      "source": [
        "# source: https://github.com/vivjay30/pychorus\n",
        "\n",
        "!pip install pychorus\n",
        "\n",
        "from pychorus import create_chroma\n",
        "from pychorus.similarity_matrix import TimeTimeSimilarityMatrix, TimeLagSimilarityMatrix\n",
        "\n",
        "chroma, _, sr, _ = create_chroma(audio_path)\n",
        "time_time_similarity = TimeTimeSimilarityMatrix(chroma, sr)\n",
        "time_lag_similarity = TimeLagSimilarityMatrix(chroma, sr)\n",
        "\n",
        "# Visualize the results\n",
        "time_time_similarity.display()\n",
        "time_lag_similarity.display()\n",
        "\n",
        "from pychorus import find_and_output_chorus\n",
        "\n",
        "chorus_start_sec = find_and_output_chorus(audio_path, 'saved_chorus.wav', 15)\n",
        "\n",
        "#Audio('saved_chorus.wav',rate=sr)\n"
      ]
    },
    {
      "cell_type": "markdown",
      "metadata": {
        "id": "qH6KoHtyqlkr"
      },
      "source": [
        "# #TODO"
      ]
    },
    {
      "cell_type": "code",
      "execution_count": null,
      "metadata": {
        "id": "pQp0mJ4KqoDb"
      },
      "outputs": [],
      "source": [
        "# force K on clustering\n",
        "\n",
        "# quantify agreement between clustering labels\n",
        "# save audios\n",
        "# get rid of duplicated computation in graphing deciding K\n",
        "# extract boundaries from labels and compare with librosa's baseling boundaries"
      ]
    },
    {
      "cell_type": "markdown",
      "metadata": {
        "id": "trjxpF8r4BkS"
      },
      "source": [
        "## salvage"
      ]
    },
    {
      "cell_type": "code",
      "execution_count": null,
      "metadata": {
        "id": "c2xONfeF7bZU"
      },
      "outputs": [],
      "source": [
        "print(mfcc.shape, mfcc_delta.shape, chromagram.shape)\n",
        "timed_features= np.vstack([mfcc, mfcc_delta, chromagram])\n",
        "timed_features.shape\n",
        "\n",
        "# the time axis is last for some strange reason- let's swap them\n",
        "timed_features = np.atleast_2d(timed_features)\n",
        "# Swap data index to position 0\n",
        "timed_features = np.swapaxes(timed_features, -1, 0)\n",
        "\n",
        "print(timed_features.shape)"
      ]
    },
    {
      "cell_type": "code",
      "execution_count": null,
      "metadata": {
        "id": "MYD-n6SdnV-c"
      },
      "outputs": [],
      "source": [
        "#\n",
        "#seg_id_modes= pd.rolling_apply(pd.DataFrame(seg_ids), 10, np.mode)\n",
        "seg_id_modes= pd.Series(seg_ids).rolling(128, min_periods=1).apply(lambda x: st.mode(x).mode)\n",
        "seg_id_modes_of_modes= pd.Series(seg_id_modes).rolling(128, min_periods=1).apply(lambda x: st.mode(x).mode)\n",
        "plt.figure(figsize=(25,5))\n",
        "plt.plot(seg_ids, color='b')\n",
        "plt.plot(seg_id_modes, color='r')\n",
        "plt.plot(seg_id_modes_of_modes, color='k')\n",
        "plt.show()\n",
        "\n"
      ]
    },
    {
      "cell_type": "code",
      "execution_count": null,
      "metadata": {
        "id": "FoibacwnKPra"
      },
      "outputs": [],
      "source": [
        "# source: https://github.com/librosa/tutorial/blob/master/Librosa%20tutorial.ipynb\n",
        "\n",
        "tempo, beats = librosa.beat.beat_track(y=y, sr=sr)\n",
        "print(tempo)\n",
        "print(beats[:10])\n",
        "\n",
        "clicks = librosa.clicks(frames=beats, sr=sr, length=len(y))\n",
        "\n",
        "# I really dislike this automatic beat extraction\n",
        "Audio(data=(y + clicks)[:60*3*sr], rate=sr)"
      ]
    }
  ],
  "metadata": {
    "colab": {
      "collapsed_sections": [],
      "provenance": [],
      "authorship_tag": "ABX9TyPnTxbu5Yp7KaYZEs0sXZjN",
      "include_colab_link": true
    },
    "kernelspec": {
      "display_name": "Python 3",
      "name": "python3"
    },
    "language_info": {
      "name": "python"
    }
  },
  "nbformat": 4,
  "nbformat_minor": 0
}